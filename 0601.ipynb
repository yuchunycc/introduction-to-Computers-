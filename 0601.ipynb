{
  "nbformat": 4,
  "nbformat_minor": 0,
  "metadata": {
    "colab": {
      "name": "0601.ipynb",
      "provenance": [],
      "authorship_tag": "ABX9TyPGLEs0Hq67Tqh/3Bnmz4XG",
      "include_colab_link": true
    },
    "kernelspec": {
      "name": "python3",
      "display_name": "Python 3"
    },
    "language_info": {
      "name": "python"
    }
  },
  "cells": [
    {
      "cell_type": "markdown",
      "metadata": {
        "id": "view-in-github",
        "colab_type": "text"
      },
      "source": [
        "<a href=\"https://colab.research.google.com/github/yuchunycc/introduction-to-Computers-/blob/main/0601.ipynb\" target=\"_parent\"><img src=\"https://colab.research.google.com/assets/colab-badge.svg\" alt=\"Open In Colab\"/></a>"
      ]
    },
    {
      "cell_type": "code",
      "execution_count": 1,
      "metadata": {
        "colab": {
          "base_uri": "https://localhost:8080/"
        },
        "id": "lRaDMOgxk-gj",
        "outputId": "578ae33d-b95f-4f3e-8c08-ae8d8b8dca84"
      },
      "outputs": [
        {
          "output_type": "stream",
          "name": "stdout",
          "text": [
            "0601\n"
          ]
        }
      ],
      "source": [
        "print(\"0601\")"
      ]
    },
    {
      "cell_type": "code",
      "source": [
        "for i in range(2,10):\n",
        "   for j in range(1,10):\n",
        "     product = i * j\n",
        "     print(\"%d*%d=%2d \" %(i, j, product), end=\"\")\n",
        "   print()"
      ],
      "metadata": {
        "colab": {
          "base_uri": "https://localhost:8080/"
        },
        "id": "y7jY_CC_nmyf",
        "outputId": "a89e77d0-e830-4548-9c92-20a8c34e39b8"
      },
      "execution_count": 3,
      "outputs": [
        {
          "output_type": "stream",
          "name": "stdout",
          "text": [
            "2*1= 2 2*2= 4 2*3= 6 2*4= 8 2*5=10 2*6=12 2*7=14 2*8=16 2*9=18 \n",
            "3*1= 3 3*2= 6 3*3= 9 3*4=12 3*5=15 3*6=18 3*7=21 3*8=24 3*9=27 \n",
            "4*1= 4 4*2= 8 4*3=12 4*4=16 4*5=20 4*6=24 4*7=28 4*8=32 4*9=36 \n",
            "5*1= 5 5*2=10 5*3=15 5*4=20 5*5=25 5*6=30 5*7=35 5*8=40 5*9=45 \n",
            "6*1= 6 6*2=12 6*3=18 6*4=24 6*5=30 6*6=36 6*7=42 6*8=48 6*9=54 \n",
            "7*1= 7 7*2=14 7*3=21 7*4=28 7*5=35 7*6=42 7*7=49 7*8=56 7*9=63 \n",
            "8*1= 8 8*2=16 8*3=24 8*4=32 8*5=40 8*6=48 8*7=56 8*8=64 8*9=72 \n",
            "9*1= 9 9*2=18 9*3=27 9*4=36 9*5=45 9*6=54 9*7=63 9*8=72 9*9=81 \n"
          ]
        }
      ]
    },
    {
      "cell_type": "code",
      "source": [
        "a = int(input(\"請輸入a的值:\"))\n",
        "b = int(input(\"請輸入b的值:\"))\n",
        "maxno = a * b\n",
        "for i in range(1, maxno+1):\n",
        "  if(i % a == 0 and i % b ==0):\n",
        "   break\n",
        "print(\"%d和 %d的最小公倍數 = %d\" %(a,b,i))"
      ],
      "metadata": {
        "colab": {
          "base_uri": "https://localhost:8080/"
        },
        "id": "J5u1Qb2CoaUW",
        "outputId": "b21e2f0b-22ed-499f-d1f2-94c889e87ae2"
      },
      "execution_count": 4,
      "outputs": [
        {
          "output_type": "stream",
          "name": "stdout",
          "text": [
            "請輸入a的值:5\n",
            "請輸入b的值:4\n",
            "5和 4的最小公倍數 = 20\n"
          ]
        }
      ]
    },
    {
      "cell_type": "code",
      "source": [
        "n = int(input(\"請輸入一個正整數:\"))\n",
        "for i in range(1, n+1):\n",
        "  if i % 5 == 0:\n",
        "    continue\n",
        "  print(i, end=\" \")"
      ],
      "metadata": {
        "colab": {
          "base_uri": "https://localhost:8080/"
        },
        "id": "rXWBx2RZqDRA",
        "outputId": "eda98def-03d8-4d03-990a-b834ed30d8d8"
      },
      "execution_count": 6,
      "outputs": [
        {
          "output_type": "stream",
          "name": "stdout",
          "text": [
            "請輸入一個正整數:25\n",
            "1 2 3 4 6 7 8 9 11 12 13 14 16 17 18 19 21 22 23 24 "
          ]
        }
      ]
    },
    {
      "cell_type": "code",
      "source": [
        "total = n = 0\n",
        "while(n < 10):\n",
        "  n += 1\n",
        "  total += n\n",
        "print(total) "
      ],
      "metadata": {
        "colab": {
          "base_uri": "https://localhost:8080/"
        },
        "id": "_GHKlCbdrmqM",
        "outputId": "1ec2241a-f7ce-4408-efd5-2279526ba3a7"
      },
      "execution_count": 7,
      "outputs": [
        {
          "output_type": "stream",
          "name": "stdout",
          "text": [
            "55\n"
          ]
        }
      ]
    },
    {
      "cell_type": "code",
      "source": [
        "total = n = 0\n",
        "while n <= 10:\n",
        "  total += n\n",
        "  n += 1\n",
        "print(total) "
      ],
      "metadata": {
        "colab": {
          "base_uri": "https://localhost:8080/"
        },
        "id": "fRvO7k7BtlZw",
        "outputId": "41da5d0b-bdda-44ad-8e73-ea029f603388"
      },
      "execution_count": 9,
      "outputs": [
        {
          "output_type": "stream",
          "name": "stdout",
          "text": [
            "55\n"
          ]
        }
      ]
    },
    {
      "cell_type": "code",
      "source": [
        "total = n = 0\n",
        "while(n <= 10):\n",
        "  total += n\n",
        "print(total) "
      ],
      "metadata": {
        "colab": {
          "base_uri": "https://localhost:8080/",
          "height": 219
        },
        "id": "3hQ_6RSlu8yc",
        "outputId": "27aea71b-c22e-45a0-cc97-5d746caefad7"
      },
      "execution_count": 10,
      "outputs": [
        {
          "output_type": "error",
          "ename": "KeyboardInterrupt",
          "evalue": "ignored",
          "traceback": [
            "\u001b[0;31m---------------------------------------------------------------------------\u001b[0m",
            "\u001b[0;31mKeyboardInterrupt\u001b[0m                         Traceback (most recent call last)",
            "\u001b[0;32m<ipython-input-10-c67097a09648>\u001b[0m in \u001b[0;36m<module>\u001b[0;34m()\u001b[0m\n\u001b[1;32m      1\u001b[0m \u001b[0mtotal\u001b[0m \u001b[0;34m=\u001b[0m \u001b[0mn\u001b[0m \u001b[0;34m=\u001b[0m \u001b[0;36m0\u001b[0m\u001b[0;34m\u001b[0m\u001b[0;34m\u001b[0m\u001b[0m\n\u001b[1;32m      2\u001b[0m \u001b[0;32mwhile\u001b[0m\u001b[0;34m(\u001b[0m\u001b[0mn\u001b[0m \u001b[0;34m<=\u001b[0m \u001b[0;36m10\u001b[0m\u001b[0;34m)\u001b[0m\u001b[0;34m:\u001b[0m\u001b[0;34m\u001b[0m\u001b[0;34m\u001b[0m\u001b[0m\n\u001b[0;32m----> 3\u001b[0;31m   \u001b[0mtotal\u001b[0m \u001b[0;34m+=\u001b[0m \u001b[0mn\u001b[0m\u001b[0;34m\u001b[0m\u001b[0;34m\u001b[0m\u001b[0m\n\u001b[0m\u001b[1;32m      4\u001b[0m \u001b[0mprint\u001b[0m\u001b[0;34m(\u001b[0m\u001b[0mtotal\u001b[0m\u001b[0;34m)\u001b[0m\u001b[0;34m\u001b[0m\u001b[0;34m\u001b[0m\u001b[0m\n",
            "\u001b[0;31mKeyboardInterrupt\u001b[0m: "
          ]
        }
      ]
    },
    {
      "cell_type": "code",
      "source": [
        "total = i = 1\n",
        "n = int(input(\"請輸入正整數n的值:\"))\n",
        "while i<= n:\n",
        "  total *=i\n",
        "  i+=1\n",
        "print(\"%d!=%d\" %(n, total))"
      ],
      "metadata": {
        "colab": {
          "base_uri": "https://localhost:8080/"
        },
        "id": "M9zjDmjSvEsy",
        "outputId": "f810f811-b8db-4bf2-eb50-01f0fa611e6c"
      },
      "execution_count": 11,
      "outputs": [
        {
          "output_type": "stream",
          "name": "stdout",
          "text": [
            "請輸入正整數n的值:100\n",
            "100!=93326215443944152681699238856266700490715968264381621468592963895217599993229915608941463976156518286253697920827223758251185210916864000000000000000000000000\n"
          ]
        }
      ]
    },
    {
      "cell_type": "code",
      "source": [
        "t = 0\n",
        "for i in range(0,51):\n",
        "  if(i%2)==0:\n",
        "   t+=i\n",
        "print(\"0-50的偶數和是\", t)\n",
        "t = 0\n",
        "for i in range(0,51):  \n",
        "  if(i%2)==1:\n",
        "   t+=i\n",
        "print(\"0-50的奇數和是\", t)"
      ],
      "metadata": {
        "colab": {
          "base_uri": "https://localhost:8080/"
        },
        "id": "m3yxyQ1dwQhi",
        "outputId": "3d15298d-86a5-4e25-fbb8-bd17302f9a37"
      },
      "execution_count": 36,
      "outputs": [
        {
          "output_type": "stream",
          "name": "stdout",
          "text": [
            "0-50的偶數和是 650\n",
            "0-50的奇數和是 625\n"
          ]
        }
      ]
    },
    {
      "cell_type": "code",
      "source": [
        "n = int(input(\"請輸入正整數:\"))\n",
        "for i in range(1, n+1):\n",
        "  for j in range(1, n+1):\n",
        "    if j >=i:\n",
        "      print(\"*\", end=\"\")\n",
        "  print()"
      ],
      "metadata": {
        "colab": {
          "base_uri": "https://localhost:8080/"
        },
        "id": "g-PeJXRp2spt",
        "outputId": "affd872b-6678-427f-b9fe-8c227f87f933"
      },
      "execution_count": 38,
      "outputs": [
        {
          "output_type": "stream",
          "name": "stdout",
          "text": [
            "請輸入正整數:7\n",
            "*******\n",
            "******\n",
            "*****\n",
            "****\n",
            "***\n",
            "**\n",
            "*\n"
          ]
        }
      ]
    },
    {
      "cell_type": "code",
      "source": [
        "sum = 0\n",
        "for i in range(1,101):\n",
        "  if i % 3 == 0 or i % 7 == 0:\n",
        "    sum += i\n",
        "print(\"數值1-100中,所有是3或7倍數的數之總和=\" +str(sum))"
      ],
      "metadata": {
        "colab": {
          "base_uri": "https://localhost:8080/"
        },
        "id": "67UCBnMm37RH",
        "outputId": "b3a606b9-af7b-4dec-86b4-e2bc5166b25b"
      },
      "execution_count": 39,
      "outputs": [
        {
          "output_type": "stream",
          "name": "stdout",
          "text": [
            "數值1-100中,所有是3或7倍數的數之總和=2208\n"
          ]
        }
      ]
    },
    {
      "cell_type": "code",
      "source": [
        "n = int(input(\"請輸入正整數:\"))\n",
        "factors=[]\n",
        "for i in range(1,n+1):\n",
        "  if n % i ==0:\n",
        "    factors.append(i)\n",
        "print(n,\"的因數有\", factors)\n",
        "\n",
        "if n > 1:\n",
        "   for i in range(2,n):\n",
        "       if (n % i) == 0:\n",
        "           print(n,\"不是質數\")\n",
        "           break\n",
        "   else:\n",
        "       print(n,\"是質數\")\n",
        "else:\n",
        "   print(n,\"不是質數\")\n"
      ],
      "metadata": {
        "colab": {
          "base_uri": "https://localhost:8080/"
        },
        "id": "YuB0ywFM92xD",
        "outputId": "73230147-fd29-4632-f8a3-295b8965b88d"
      },
      "execution_count": 62,
      "outputs": [
        {
          "output_type": "stream",
          "name": "stdout",
          "text": [
            "請輸入正整數:12\n",
            "12 的因數有 [1, 2, 3, 4, 6, 12]\n",
            "12 不是質數\n"
          ]
        }
      ]
    }
  ]
}