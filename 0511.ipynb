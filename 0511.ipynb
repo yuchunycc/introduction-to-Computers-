{
  "nbformat": 4,
  "nbformat_minor": 0,
  "metadata": {
    "colab": {
      "name": "0511.ipynb",
      "provenance": [],
      "authorship_tag": "ABX9TyN+p03j7M7ia2I1I+G/7xm6",
      "include_colab_link": true
    },
    "kernelspec": {
      "name": "python3",
      "display_name": "Python 3"
    },
    "language_info": {
      "name": "python"
    }
  },
  "cells": [
    {
      "cell_type": "markdown",
      "metadata": {
        "id": "view-in-github",
        "colab_type": "text"
      },
      "source": [
        "<a href=\"https://colab.research.google.com/github/yuchunycc/introduction-to-Computers-/blob/main/0511.ipynb\" target=\"_parent\"><img src=\"https://colab.research.google.com/assets/colab-badge.svg\" alt=\"Open In Colab\"/></a>"
      ]
    },
    {
      "cell_type": "code",
      "execution_count": 7,
      "metadata": {
        "colab": {
          "base_uri": "https://localhost:8080/"
        },
        "id": "Yhq1B9HEg8D3",
        "outputId": "17ba6482-045f-45c9-b8f2-e75df8f9d3ca"
      },
      "outputs": [
        {
          "output_type": "stream",
          "name": "stdout",
          "text": [
            "請輸入你的體溫34\n",
            "體溫正常\n"
          ]
        }
      ],
      "source": [
        "temp = float(input('請輸入你的體溫'))\n",
        "if temp >= 37.5:\n",
        "    print('體溫過高')\n",
        "elif temp >= 37 and temp < 37.4:\n",
        "    print('體溫略高')\n",
        "elif temp >= 34 and temp < 36.9:\n",
        "    print('體溫正常')\n",
        "else:\n",
        "    print('體溫異常，請重新量測') \n"
      ]
    },
    {
      "cell_type": "code",
      "source": [
        "money = int(input('請輸入購物金額'))\n",
        "if (money >= 10000):\n",
        "    if (money >= 100000):\n",
        "      print('八折', money * 0.8, end ='元\\n')\n",
        "    elif (money >= 50000):\n",
        "      print('八五折', money * 0.85, end ='元\\n')\n",
        "    elif (money >=30000):\n",
        "      print('九折',money* 0.9, end='元\\n')\n",
        "    else:\n",
        "      print('九五折',money * 0.95, end = '元\\n')\n",
        "else:\n",
        "    print('沒打折',money, end=\"元\\n\")"
      ],
      "metadata": {
        "colab": {
          "base_uri": "https://localhost:8080/"
        },
        "id": "9NGdXoC7klLH",
        "outputId": "333fcb25-ce6f-4433-9c7a-95890ac31620"
      },
      "execution_count": 10,
      "outputs": [
        {
          "output_type": "stream",
          "name": "stdout",
          "text": [
            "請輸入購物金額30000\n",
            "九折 27000.0元\n"
          ]
        }
      ]
    },
    {
      "cell_type": "code",
      "source": [
        "score = int(input('請輸入成績'))\n",
        "if score >= 90:\n",
        "    print('A')\n",
        "elif score >= 80 and score <= 89:\n",
        "    print(\"B\")\n",
        "elif score >= 70 and score <= 79:\n",
        "    print('C')\n",
        "elif score >= 60 and score <= 69:\n",
        "    print('D')\n",
        "else:\n",
        "    print('E')"
      ],
      "metadata": {
        "colab": {
          "base_uri": "https://localhost:8080/"
        },
        "id": "fR5dCe89qaQ1",
        "outputId": "56554db8-4766-429b-81c8-37ae1f37358d"
      },
      "execution_count": 23,
      "outputs": [
        {
          "output_type": "stream",
          "name": "stdout",
          "text": [
            "請輸入成績50\n",
            "E\n"
          ]
        }
      ]
    },
    {
      "cell_type": "code",
      "source": [
        "month = int(input('請輸入月份'))\n",
        "if month >=3 and month <=5:\n",
        "    print(month, '月是春天', sep='')\n",
        "elif month >=6 and month <=8:\n",
        "    print(month, '月是夏天', sep='')\n",
        "elif month >=9 and month <=11:\n",
        "    print(month, '月是秋天', sep='')\n",
        "elif month == 12 or month == 1 or month == 2:\n",
        "    print(month, '月是冬天', sep='')\n",
        "else:\n",
        "    print('月份不在範圍內')"
      ],
      "metadata": {
        "colab": {
          "base_uri": "https://localhost:8080/"
        },
        "id": "lGIBnrk1se6N",
        "outputId": "b9625eea-e7c3-42d0-b52b-84c942457a27"
      },
      "execution_count": 28,
      "outputs": [
        {
          "output_type": "stream",
          "name": "stdout",
          "text": [
            "請輸入月份2\n",
            "2月是冬天\n"
          ]
        }
      ]
    },
    {
      "cell_type": "code",
      "source": [
        "income = int(input('請輸入今年收入淨額'))\n",
        "if (income >=300000):\n",
        "      if(income >= 600000):\n",
        "        print('賦稅金額:', income*0.13, end ='元\\n')\n",
        "      elif(income >= 1000000):\n",
        "        print('賦稅金額:', income*0.21, end ='元\\n')\n",
        "      elif(income >= 2000000):\n",
        "        print('賦稅金額:', income*0.3, end ='元\\n')\n",
        "      else:\n",
        "        print('賦稅金額:', income*0.06, end ='元\\n')\n",
        "else:\n",
        "    print('賦稅金額:0', end ='元\\n')"
      ],
      "metadata": {
        "colab": {
          "base_uri": "https://localhost:8080/"
        },
        "id": "tz2dUlhYuRs2",
        "outputId": "ec8520cf-5e0f-42ae-da0a-ef8e95cfbdf7"
      },
      "execution_count": 35,
      "outputs": [
        {
          "output_type": "stream",
          "name": "stdout",
          "text": [
            "請輸入今年收入淨額600000\n",
            "賦稅金額: 78000.0元\n"
          ]
        }
      ]
    }
  ]
}